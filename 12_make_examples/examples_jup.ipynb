{
 "cells": [
  {
   "cell_type": "code",
   "execution_count": null,
   "id": "00afe20e",
   "metadata": {},
   "outputs": [],
   "source": [
    "# opencv kütüphanesini içe aktaralım\n",
    "import cv2\n",
    "\n",
    "# numpy kütüphanesini içe aktaralım\n",
    "import numpy as np"
   ]
  },
  {
   "cell_type": "code",
   "execution_count": null,
   "id": "ef9eae9a",
   "metadata": {},
   "outputs": [],
   "source": [
    "# resmi siyah beyaz olarak içe aktaralım\n",
    "image = cv2.imread(\"odev2.jpg\",0)"
   ]
  },
  {
   "cell_type": "code",
   "execution_count": null,
   "id": "04c26db8",
   "metadata": {},
   "outputs": [],
   "source": [
    "# resmi çizdirelim\n",
    "cv2.imshow('Odev-2',image)"
   ]
  },
  {
   "cell_type": "code",
   "execution_count": null,
   "id": "35f99cce",
   "metadata": {},
   "outputs": [],
   "source": [
    "# resim üzerinde bulunan kenarları tespit edelim ve görselleştirelim\n",
    "edges = cv2.Canny(image = image, threshold1 = 200, threshold2 = 255)\n",
    "cv2.imshow('Kenar Tespiti',edges)"
   ]
  },
  {
   "cell_type": "code",
   "execution_count": null,
   "id": "7a0c2e7a",
   "metadata": {},
   "outputs": [],
   "source": [
    "# yüz tespiti için gerekli haar cascade'i içe aktaralım\n",
    "face_cascade = cv2.CascadeClassifier(\"haarcascade_frontalface_default.xml\")"
   ]
  },
  {
   "cell_type": "code",
   "execution_count": null,
   "id": "4ce2e504",
   "metadata": {},
   "outputs": [],
   "source": [
    "# yüz tespiti yapıp sonuçları görselleştirelim\n",
    "face_rect = face_cascade.detectMultiScale(image)\n",
    "for (x,y,w,h) in face_rect:\n",
    "    cv2.rectangle(image,(x,y),(x+w,y+h),(255,255,255),10)\n",
    "cv2.imshow(\"Yuz Tespiti\", image)"
   ]
  },
  {
   "cell_type": "code",
   "execution_count": null,
   "id": "ee8a0345",
   "metadata": {},
   "outputs": [],
   "source": [
    "# initialize the HOG insan tespiti algoritmamızı çağıralım ve svm'i set edelim\n",
    "hog = cv2.HOGDescriptor()\n",
    "hog.setSVMDetector(cv2.HOGDescriptor_getDefaultPeopleDetector())"
   ]
  },
  {
   "cell_type": "code",
   "execution_count": null,
   "id": "399dd6a5",
   "metadata": {},
   "outputs": [],
   "source": [
    "# resme insan tespiti algoritmamızı uygulayalım ve görselleştirelim\n",
    "(rects, weights) = hog.detectMultiScale(image, padding=(8, 8), scale=1.05)\n",
    "\n",
    "for (xA, yA, xB, yB) in rects:\n",
    "    cv2.rectangle(image, (xA, yA), (xB, yB), (0, 0, 255), 2)\n",
    "\n",
    "cv2.imshow(\"insan Tespiti\", image)"
   ]
  },
  {
   "cell_type": "code",
   "execution_count": null,
   "id": "a615e88c",
   "metadata": {},
   "outputs": [],
   "source": []
  }
 ],
 "metadata": {
  "kernelspec": {
   "display_name": "Python 3 (ipykernel)",
   "language": "python",
   "name": "python3"
  },
  "language_info": {
   "codemirror_mode": {
    "name": "ipython",
    "version": 3
   },
   "file_extension": ".py",
   "mimetype": "text/x-python",
   "name": "python",
   "nbconvert_exporter": "python",
   "pygments_lexer": "ipython3",
   "version": "3.9.18"
  }
 },
 "nbformat": 4,
 "nbformat_minor": 5
}
