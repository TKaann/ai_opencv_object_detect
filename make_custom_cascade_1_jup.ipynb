{
 "cells": [
  {
   "cell_type": "code",
   "execution_count": null,
   "id": "a39ffce3",
   "metadata": {},
   "outputs": [],
   "source": [
    "#simdi burada yapacagimiz sey kameramizi actigimizda kameramizin cektigi nesnenin her 5 frame de 1 tanesini kaydetmesi ve\n",
    "#kaydettikleri resimleri yeni bir klasor icinde depolamasi, kaydettigi her resime ne kadar kaydettiyse o sayinin ismini vermesi,\n",
    "#bunu taniyacagimiz verinin toplanmasi icin yapiyoruz. \n",
    "#ayrica bir de tanimak istedigimiz nesneden farkli bir nesne de cekiyoruz ki ogrenme islemini yapabilelim\n",
    "#bu rastgele bir nesne olabilir."
   ]
  },
  {
   "cell_type": "code",
   "execution_count": null,
   "id": "8bbda6f1",
   "metadata": {},
   "outputs": [],
   "source": [
    "import cv2\n",
    "import os"
   ]
  },
  {
   "cell_type": "code",
   "execution_count": null,
   "id": "95ea810f",
   "metadata": {},
   "outputs": [],
   "source": [
    "# resim depo klasörü\n",
    "path = \"images\"\n",
    "\n",
    "# resim boyutu\n",
    "imgWidth = 180\n",
    "imgHeight = 120"
   ]
  },
  {
   "cell_type": "code",
   "execution_count": null,
   "id": "16aa952f",
   "metadata": {},
   "outputs": [],
   "source": [
    "# video capture\n",
    "cap = cv2.VideoCapture(0)\n",
    "cap.set(3, 640)\n",
    "cap.set(4, 480)\n",
    "cap.set(10, 180)\n",
    "\n",
    "global countFolder\n",
    "def saveDataFunc():\n",
    "    global countFolder\n",
    "    countFolder = 0\n",
    "    while os.path.exists(path + str(countFolder)):\n",
    "        countFolder += 1\n",
    "    os.makedirs(path+str(countFolder))\n",
    "\n",
    "saveDataFunc()\n",
    "\n",
    "count = 0\n",
    "countSave = 0\n",
    "\n",
    "while True:\n",
    "    \n",
    "    success, img = cap.read()\n",
    "    \n",
    "    if success:\n",
    "        \n",
    "        img = cv2.resize(img, (imgWidth, imgHeight))\n",
    "        \n",
    "        if count % 5 == 0:\n",
    "            cv2.imwrite(path+str(countFolder)+\"/\"+str(countSave)+\"_\"+\".png\",img)\n",
    "            countSave += 1\n",
    "            print(countSave)\n",
    "        count += 1\n",
    "        \n",
    "        cv2.imshow(\"Image\",img)\n",
    "    if cv2.waitKey(1) & 0xFF == ord(\"q\"): break\n",
    "\n",
    "cap.release()\n",
    "cv2.destroyAllWindows()"
   ]
  },
  {
   "cell_type": "code",
   "execution_count": null,
   "id": "899a2c8f",
   "metadata": {},
   "outputs": [],
   "source": [
    "#simdi cascde icin gerekli programi indiriyoru cascade trainer \n",
    "# https://amin-ahmadi.com/cascade-trainer-gui/"
   ]
  },
  {
   "cell_type": "code",
   "execution_count": null,
   "id": "2ab55918",
   "metadata": {},
   "outputs": [],
   "source": []
  },
  {
   "cell_type": "code",
   "execution_count": null,
   "id": "c5c41c40",
   "metadata": {},
   "outputs": [],
   "source": []
  },
  {
   "cell_type": "code",
   "execution_count": null,
   "id": "8da4d175",
   "metadata": {},
   "outputs": [],
   "source": []
  },
  {
   "cell_type": "code",
   "execution_count": null,
   "id": "1f011662",
   "metadata": {},
   "outputs": [],
   "source": []
  },
  {
   "cell_type": "code",
   "execution_count": null,
   "id": "7036effc",
   "metadata": {},
   "outputs": [],
   "source": []
  },
  {
   "cell_type": "code",
   "execution_count": null,
   "id": "bace6c95",
   "metadata": {},
   "outputs": [],
   "source": []
  },
  {
   "cell_type": "code",
   "execution_count": null,
   "id": "70599ad4",
   "metadata": {},
   "outputs": [],
   "source": []
  },
  {
   "cell_type": "code",
   "execution_count": null,
   "id": "6af2d644",
   "metadata": {},
   "outputs": [],
   "source": []
  },
  {
   "cell_type": "code",
   "execution_count": null,
   "id": "4e7683da",
   "metadata": {},
   "outputs": [],
   "source": []
  },
  {
   "cell_type": "code",
   "execution_count": null,
   "id": "da3c5696",
   "metadata": {},
   "outputs": [],
   "source": []
  },
  {
   "cell_type": "code",
   "execution_count": null,
   "id": "352c6737",
   "metadata": {},
   "outputs": [],
   "source": []
  },
  {
   "cell_type": "code",
   "execution_count": null,
   "id": "5c9a565c",
   "metadata": {},
   "outputs": [],
   "source": []
  },
  {
   "cell_type": "code",
   "execution_count": null,
   "id": "cd00c629",
   "metadata": {},
   "outputs": [],
   "source": []
  },
  {
   "cell_type": "code",
   "execution_count": null,
   "id": "bb9fc911",
   "metadata": {},
   "outputs": [],
   "source": []
  }
 ],
 "metadata": {
  "kernelspec": {
   "display_name": "Python 3 (ipykernel)",
   "language": "python",
   "name": "python3"
  },
  "language_info": {
   "codemirror_mode": {
    "name": "ipython",
    "version": 3
   },
   "file_extension": ".py",
   "mimetype": "text/x-python",
   "name": "python",
   "nbconvert_exporter": "python",
   "pygments_lexer": "ipython3",
   "version": "3.9.18"
  }
 },
 "nbformat": 4,
 "nbformat_minor": 5
}
