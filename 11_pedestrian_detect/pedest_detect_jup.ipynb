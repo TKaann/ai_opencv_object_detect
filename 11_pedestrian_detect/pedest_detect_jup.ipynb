{
 "cells": [
  {
   "cell_type": "code",
   "execution_count": 1,
   "id": "ebbb14d2",
   "metadata": {},
   "outputs": [],
   "source": [
    "import cv2\n",
    "import os"
   ]
  },
  {
   "cell_type": "code",
   "execution_count": 2,
   "id": "a317b572",
   "metadata": {},
   "outputs": [
    {
     "name": "stdout",
     "output_type": "stream",
     "text": [
      "['img1.jpg', 'img2.jpg', 'img3.jpg']\n"
     ]
    }
   ],
   "source": [
    "files = os.listdir()\n",
    "img_path_list = []\n",
    "\n",
    "for f in files:\n",
    "    if f.endswith(\".jpg\"):\n",
    "        img_path_list.append(f)\n",
    "    \n",
    "print(img_path_list)"
   ]
  },
  {
   "cell_type": "code",
   "execution_count": 3,
   "id": "fec7eedc",
   "metadata": {},
   "outputs": [
    {
     "name": "stdout",
     "output_type": "stream",
     "text": [
      "img1.jpg\n",
      "img2.jpg\n",
      "img3.jpg\n"
     ]
    }
   ],
   "source": [
    "# hog tanımlayıcısı\n",
    "hog = cv2.HOGDescriptor()\n",
    "# tanımlayıcıa SVM ekle\n",
    "hog.setSVMDetector(cv2.HOGDescriptor_getDefaultPeopleDetector())\n",
    "\n",
    "for imagePath in img_path_list:\n",
    "    print(imagePath)\n",
    "    \n",
    "    image = cv2.imread(imagePath)\n",
    "    \n",
    "    (rects, weights) = hog.detectMultiScale(image, padding = (8,8), scale = 1.05)\n",
    "    \n",
    "    for (x,y,w,h) in rects:\n",
    "        cv2.rectangle(image, (x,y),(x+w,y+h),(0,0,255),2)\n",
    "         \n",
    "    cv2.imshow(\"Yaya: \",image)\n",
    "    while True:\n",
    "        key = cv2.waitKey(1) or 0xFF\n",
    "        if key == ord(\"e\"):  # E tuşuna basıldığında pencereyi kapat ve bir sonraki resme geç\n",
    "            cv2.destroyAllWindows()\n",
    "            break\n",
    "        elif key == ord(\"q\"):  # Q tuşuna basıldığında bir sonraki resme geç\n",
    "            break\n",
    "\n",
    "cv2.destroyAllWindows()  # Tüm pencereleri kapat"
   ]
  },
  {
   "cell_type": "code",
   "execution_count": null,
   "id": "cf90a29a",
   "metadata": {},
   "outputs": [],
   "source": []
  },
  {
   "cell_type": "code",
   "execution_count": null,
   "id": "7d9e2e3a",
   "metadata": {},
   "outputs": [],
   "source": []
  },
  {
   "cell_type": "code",
   "execution_count": null,
   "id": "edcc3bac",
   "metadata": {},
   "outputs": [],
   "source": []
  },
  {
   "cell_type": "code",
   "execution_count": null,
   "id": "5a498b00",
   "metadata": {},
   "outputs": [],
   "source": []
  },
  {
   "cell_type": "code",
   "execution_count": null,
   "id": "4b6ba703",
   "metadata": {},
   "outputs": [],
   "source": []
  },
  {
   "cell_type": "code",
   "execution_count": null,
   "id": "522f8586",
   "metadata": {},
   "outputs": [],
   "source": []
  },
  {
   "cell_type": "code",
   "execution_count": null,
   "id": "6aaccb06",
   "metadata": {},
   "outputs": [],
   "source": []
  },
  {
   "cell_type": "code",
   "execution_count": null,
   "id": "8159f273",
   "metadata": {},
   "outputs": [],
   "source": []
  },
  {
   "cell_type": "code",
   "execution_count": null,
   "id": "dfceb71f",
   "metadata": {},
   "outputs": [],
   "source": []
  },
  {
   "cell_type": "code",
   "execution_count": null,
   "id": "d7b715ea",
   "metadata": {},
   "outputs": [],
   "source": []
  },
  {
   "cell_type": "code",
   "execution_count": null,
   "id": "f0c5a18c",
   "metadata": {},
   "outputs": [],
   "source": []
  },
  {
   "cell_type": "code",
   "execution_count": null,
   "id": "8b9a1efb",
   "metadata": {},
   "outputs": [],
   "source": []
  },
  {
   "cell_type": "code",
   "execution_count": null,
   "id": "b975abee",
   "metadata": {},
   "outputs": [],
   "source": []
  },
  {
   "cell_type": "code",
   "execution_count": null,
   "id": "e1a8b582",
   "metadata": {},
   "outputs": [],
   "source": []
  },
  {
   "cell_type": "code",
   "execution_count": null,
   "id": "4acbc7c9",
   "metadata": {},
   "outputs": [],
   "source": []
  },
  {
   "cell_type": "code",
   "execution_count": null,
   "id": "1d1f3938",
   "metadata": {},
   "outputs": [],
   "source": []
  }
 ],
 "metadata": {
  "kernelspec": {
   "display_name": "Python 3 (ipykernel)",
   "language": "python",
   "name": "python3"
  },
  "language_info": {
   "codemirror_mode": {
    "name": "ipython",
    "version": 3
   },
   "file_extension": ".py",
   "mimetype": "text/x-python",
   "name": "python",
   "nbconvert_exporter": "python",
   "pygments_lexer": "ipython3",
   "version": "3.9.18"
  }
 },
 "nbformat": 4,
 "nbformat_minor": 5
}
