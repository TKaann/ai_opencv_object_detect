{
 "cells": [
  {
   "cell_type": "code",
   "execution_count": 1,
   "id": "cf03c835",
   "metadata": {},
   "outputs": [],
   "source": [
    "import cv2\n",
    "import os"
   ]
  },
  {
   "cell_type": "code",
   "execution_count": 2,
   "id": "e5ea47d6",
   "metadata": {},
   "outputs": [
    {
     "name": "stdout",
     "output_type": "stream",
     "text": [
      "['.ipynb_checkpoints', 'cat_face_detect_jup.ipynb', 'cat_face_detect_spy.py', 'cat_img1.jpg', 'cat_img2.jpg', 'cat_img3.jpg', 'haarcascade_frontalcatface.xml']\n",
      "['cat_img1.jpg', 'cat_img2.jpg', 'cat_img3.jpg']\n"
     ]
    }
   ],
   "source": [
    "#artik resimleri iceriye aktarirken tek tek degil de tek seferde birden fazla resim akiaricaz.\n",
    "#dongu ile resimleri tek seferde aktarma islemi yapicaz.\n",
    "\n",
    "files = os.listdir()\n",
    "print(files)\n",
    "img_path_list = []\n",
    "for f in files:\n",
    "    if f.endswith(\".jpg\"): \n",
    "        img_path_list.append(f)\n",
    "print(img_path_list)"
   ]
  },
  {
   "cell_type": "code",
   "execution_count": 35,
   "id": "f243c268",
   "metadata": {},
   "outputs": [
    {
     "name": "stdout",
     "output_type": "stream",
     "text": [
      "cat_img1.jpg\n",
      "cat_img2.jpg\n",
      "cat_img3.jpg\n"
     ]
    }
   ],
   "source": [
    "for j in img_path_list:\n",
    "    print(j)\n",
    "    image = cv2.imread(j)\n",
    "    gray = cv2.cvtColor(image, cv2.COLOR_BGR2GRAY)\n",
    "    \n",
    "    detector = cv2.CascadeClassifier(\"haarcascade_frontalcatface.xml\")\n",
    "    #buradaki scaleFactor resim uyerinde ne kadar zoom yapacagini belirledigimiz bir parametredir.\n",
    "    rects = detector.detectMultiScale(gray, scaleFactor = 1.045, minNeighbors = 2)\n",
    "    \n",
    "    for (i, (x,y,w,h)) in enumerate(rects):\n",
    "        cv2.rectangle(image, (x,y), (x+w, y+h),(0,255,255),2)\n",
    "        cv2.putText(image, \"Kedi {}\".format(i+1), (x,y-10),cv2.FONT_HERSHEY_SIMPLEX, 0.55, (0,255,255),2)\n",
    "        \n",
    "    cv2.imshow(j, image)\n",
    "    while True:\n",
    "        key = cv2.waitKey(1) or 0xFF\n",
    "        if key == ord(\"e\"):  # E tuşuna basıldığında pencereyi kapat ve bir sonraki resme geç\n",
    "            cv2.destroyAllWindows()\n",
    "            break\n",
    "        elif key == ord(\"q\"):  # Q tuşuna basıldığında bir sonraki resme geç\n",
    "            break\n",
    "\n",
    "cv2.destroyAllWindows()  # Tüm pencereleri kapat"
   ]
  },
  {
   "cell_type": "code",
   "execution_count": null,
   "id": "3051be30",
   "metadata": {},
   "outputs": [],
   "source": []
  },
  {
   "cell_type": "code",
   "execution_count": null,
   "id": "10ec1c62",
   "metadata": {},
   "outputs": [],
   "source": []
  },
  {
   "cell_type": "code",
   "execution_count": null,
   "id": "1fb12b00",
   "metadata": {},
   "outputs": [],
   "source": []
  },
  {
   "cell_type": "code",
   "execution_count": null,
   "id": "35d9c8f8",
   "metadata": {},
   "outputs": [],
   "source": []
  },
  {
   "cell_type": "code",
   "execution_count": null,
   "id": "9dd6d735",
   "metadata": {},
   "outputs": [],
   "source": []
  },
  {
   "cell_type": "code",
   "execution_count": null,
   "id": "72513cca",
   "metadata": {},
   "outputs": [],
   "source": []
  },
  {
   "cell_type": "code",
   "execution_count": null,
   "id": "a17704de",
   "metadata": {},
   "outputs": [],
   "source": []
  },
  {
   "cell_type": "code",
   "execution_count": null,
   "id": "dfcf32b0",
   "metadata": {},
   "outputs": [],
   "source": []
  },
  {
   "cell_type": "code",
   "execution_count": null,
   "id": "bcbc1f60",
   "metadata": {},
   "outputs": [],
   "source": []
  },
  {
   "cell_type": "code",
   "execution_count": null,
   "id": "f77244d9",
   "metadata": {},
   "outputs": [],
   "source": []
  },
  {
   "cell_type": "code",
   "execution_count": null,
   "id": "69dec4cd",
   "metadata": {},
   "outputs": [],
   "source": []
  },
  {
   "cell_type": "code",
   "execution_count": null,
   "id": "38ebca62",
   "metadata": {},
   "outputs": [],
   "source": []
  },
  {
   "cell_type": "code",
   "execution_count": null,
   "id": "0f3adec7",
   "metadata": {},
   "outputs": [],
   "source": []
  },
  {
   "cell_type": "code",
   "execution_count": null,
   "id": "5838073b",
   "metadata": {},
   "outputs": [],
   "source": []
  }
 ],
 "metadata": {
  "kernelspec": {
   "display_name": "Python 3 (ipykernel)",
   "language": "python",
   "name": "python3"
  },
  "language_info": {
   "codemirror_mode": {
    "name": "ipython",
    "version": 3
   },
   "file_extension": ".py",
   "mimetype": "text/x-python",
   "name": "python",
   "nbconvert_exporter": "python",
   "pygments_lexer": "ipython3",
   "version": "3.9.18"
  }
 },
 "nbformat": 4,
 "nbformat_minor": 5
}
